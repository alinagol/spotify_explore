{
 "cells": [
  {
   "cell_type": "code",
   "execution_count": 37,
   "metadata": {},
   "outputs": [],
   "source": [
    "from pymongo import MongoClient\n",
    "import json\n",
    "import requests\n",
    "import json\n",
    "from requests_oauthlib import OAuth1\n",
    "import base64\n",
    "import six"
   ]
  },
  {
   "cell_type": "markdown",
   "metadata": {},
   "source": [
    "## Connect"
   ]
  },
  {
   "cell_type": "code",
   "execution_count": 44,
   "metadata": {},
   "outputs": [],
   "source": [
    "cfg = json.load(open('config/mongo.json'))\n",
    "\n",
    "db = 'mongodb://{host}:{port}'.format(**cfg['local'])  # local DB\n",
    "with MongoClient(db) as client:\n",
    "    tracksDB = client[cfg['local']['database']]['tracks']\n",
    "    artistsDB = client[cfg['local']['database']]['artists']"
   ]
  },
  {
   "cell_type": "markdown",
   "metadata": {},
   "source": [
    "## Insert"
   ]
  },
  {
   "cell_type": "code",
   "execution_count": 39,
   "metadata": {},
   "outputs": [],
   "source": [
    "config = json.load(open('config/access.json'))\n",
    "auth_header = base64.b64encode(str(config['Client ID'] + ':' + config['Client Secret']).encode('ascii'))\n",
    "headers = {\n",
    "    'Content-Type': 'application/x-www-form-urlencoded',\n",
    "    'Authorization': 'Basic '+ auth_header.decode('ascii')\n",
    "}\n",
    "\n",
    "payload = { 'grant_type': 'client_credentials'}\n",
    "auth_req = requests.post('https://accounts.spotify.com/api/token', headers=headers, data=payload)\n",
    "\n",
    "headers = {\n",
    "    'Authorization': 'Bearer ' + auth_req.json()['access_token']\n",
    "}\n",
    "\n",
    "s = requests.Session()\n",
    "s.headers.update(headers)"
   ]
  },
  {
   "cell_type": "code",
   "execution_count": 48,
   "metadata": {},
   "outputs": [],
   "source": [
    "artist_ids = ['1Xyo4u8uXC1ZmMpatF05PJ', '2h93pZq0e7k5yf4dywlkpM', '6M2wZ9GZgrQXHCFfjv46we']\n",
    "\n",
    "headers['Content-Type'] = 'application/json'\n",
    "\n",
    "payload = {'country': 'NL'}\n",
    "\n",
    "tracks = []\n",
    "\n",
    "for artist in artist_ids:\n",
    "    tracks.extend(s.get('https://api.spotify.com/v1/artists/%s/top-tracks'%(artist), \n",
    "                        headers=headers, params=payload).json()['tracks'])"
   ]
  },
  {
   "cell_type": "code",
   "execution_count": 51,
   "metadata": {},
   "outputs": [
    {
     "name": "stderr",
     "output_type": "stream",
     "text": [
      "/usr/local/lib/python3.6/site-packages/ipykernel_launcher.py:5: DeprecationWarning: insert is deprecated. Use insert_one or insert_many instead.\n",
      "  \"\"\"\n"
     ]
    }
   ],
   "source": [
    "for track in tracks:\n",
    "    \n",
    "    tr = s.get('https://api.spotify.com/v1/audio-features/%s'%(track['id']), headers=headers).json()\n",
    "    tr.update({'name': track['name'], 'popularity': track['popularity'], 'artists': track['artists'][0]['name']})\n",
    "    tracksDB.insert(tr)"
   ]
  },
  {
   "cell_type": "code",
   "execution_count": 50,
   "metadata": {},
   "outputs": [
    {
     "data": {
      "text/plain": [
       "'Dua Lipa'"
      ]
     },
     "execution_count": 50,
     "metadata": {},
     "output_type": "execute_result"
    }
   ],
   "source": [
    "track['artists'][0]['name']"
   ]
  },
  {
   "cell_type": "code",
   "execution_count": null,
   "metadata": {},
   "outputs": [],
   "source": []
  }
 ],
 "metadata": {
  "kernelspec": {
   "display_name": "Python 3",
   "language": "python",
   "name": "python3"
  },
  "language_info": {
   "codemirror_mode": {
    "name": "ipython",
    "version": 3
   },
   "file_extension": ".py",
   "mimetype": "text/x-python",
   "name": "python",
   "nbconvert_exporter": "python",
   "pygments_lexer": "ipython3",
   "version": "3.6.4"
  }
 },
 "nbformat": 4,
 "nbformat_minor": 2
}
